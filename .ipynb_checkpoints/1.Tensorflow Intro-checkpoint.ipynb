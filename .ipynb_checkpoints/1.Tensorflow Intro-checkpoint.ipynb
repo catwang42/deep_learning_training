{
 "cells": [
  {
   "cell_type": "markdown",
   "metadata": {},
   "source": [
    "## 1. What is tensorflow "
   ]
  },
  {
   "cell_type": "markdown",
   "metadata": {},
   "source": [
    "### 1.1 tensor\n",
    "A central unit of data in TensorFlow is the **tensor**. <br>\n",
    "A tensor consists of a set of primitive values shaped into an array of any number of dimensions. <br>\n",
    "A tensor's **rank** is its number of dimensions.\n",
    "<img src=\"Image/tensor.png\",width=480,align=\"left\">\n"
   ]
  },
  {
   "cell_type": "markdown",
   "metadata": {},
   "source": [
    " Here are some examples of tensors:"
   ]
  },
  {
   "cell_type": "code",
   "execution_count": 21,
   "metadata": {},
   "outputs": [
    {
     "name": "stdout",
     "output_type": "stream",
     "text": [
      "a rank 0 tensor; a scalar with shape []\n",
      "a rank 1 tensor; a vector with shape (3,)\n",
      "a rank 2 tensor; a matrix with shape  (2, 3)\n",
      "a rank 3 tensor with shape (2, 1, 3)\n"
     ]
    }
   ],
   "source": [
    "import numpy as np \n",
    "\n",
    "scaler = 3 # a rank 0 tensor; a scalar with shape []\n",
    "print('a rank 0 tensor; a scalar with shape []')\n",
    "rank1 = [1., 2., 3.]\n",
    "print('a rank 1 tensor; a vector with shape', np.shape(a))\n",
    "rank2 = np.array([[1., 2., 3.], [4., 5., 6.]])  \n",
    "print('a rank 2 tensor; a matrix with shape ',rank2.shape)# \n",
    "# a rank 3 tensor with shape [2, 1, 3]\n",
    "rank3 = np.array([[[1., 2., 3.]], [[7., 8., 9.]]])  \n",
    "print('a rank 3 tensor with shape',rank3.shape)"
   ]
  },
  {
   "cell_type": "markdown",
   "metadata": {},
   "source": [
    "### 1.2 Differences between Tensorflow and other ML libraries \n",
    "**TensorFlow** is more of a low-level library; basically, we can think of TensorFlow as the Lego bricks (similar to NumPy and SciPy) that we can use to implement machine learning algorithms<br>\n",
    "**TensorFlow** really shines if we want to implement deep learning algorithms, since it allows us to take advantage of GPUs for more efficient training. <br>\n",
    "\n",
    "**scikit-learn** comes with off-the-shelf algorithms, e.g.,such as SVMs, Random Forests, Logistic Regression, KNN, PCA, SDV, Adaboost, Mix of Gaussian <br><br>\n",
    "\n",
    "**XGboost** industry strengthened <br><br>\n",
    "\n",
    "\n",
    "**Theaon / Keras** high level libraries \n",
    "\n",
    "\n"
   ]
  },
  {
   "cell_type": "markdown",
   "metadata": {},
   "source": [
    "### 1.3 Install Tensorflow and required libraries \n",
    "A good reference from google tensorflow website  https://www.tensorflow.org/install/install_windows <br>\n",
    "For the purpose of this tutorial we will be using TensorFlow with CPU support only\n",
    "\n",
    "Steps:\n",
    "1. In order to run Ipython notebook,we recommend you to install Anaconda in your laptop https://www.anaconda.com/\n",
    "2. Install Tensorflow with Anaconda (**Choose the Python 3.6 version**)\n",
    "3. Fire up Anaconda Prompt \n",
    "4. \"conda install tensorflow\""
   ]
  },
  {
   "cell_type": "markdown",
   "metadata": {},
   "source": [
    "Successful screen for isntalling tensorflow\n",
    "<img src=\"Image/tensorflow-suc.png\",width=480,align=\"left\">"
   ]
  },
  {
   "cell_type": "markdown",
   "metadata": {},
   "source": [
    "#### Test your Tensorflow with a simple \"Hello World\""
   ]
  },
  {
   "cell_type": "code",
   "execution_count": 3,
   "metadata": {},
   "outputs": [
    {
     "name": "stdout",
     "output_type": "stream",
     "text": [
      "b'Hello, Tensorflow!!'\n"
     ]
    }
   ],
   "source": [
    "import tensorflow as tf\n",
    "hello = tf.constant('Hello, Tensorflow!!')\n",
    "sess = tf.Session()\n",
    "print(sess.run(hello))"
   ]
  },
  {
   "cell_type": "markdown",
   "metadata": {},
   "source": [
    "### 1.4 Computational Graph "
   ]
  },
  {
   "cell_type": "markdown",
   "metadata": {},
   "source": [
    "Tensorflow core program are consisting of two discrete sections: \n",
    "1. Building the computational graph.\n",
    "2. Running the computational graph \n",
    "\n",
    "A **computational graph** is a series of operations arranged into a graph of nodes. Each note take zero or more inputs perform some operation then produce a output. <br>\n",
    "<img src=\"Image/affine_transformation.png\",width=480><br><br>\n",
    "**!! in ternsorflow, all nodes in the computational graph will be evaluated in <font color='red'>Session</front>**<br>\n",
    "A session encapsulates the control and state of the TensorFlow runtime. "
   ]
  },
  {
   "cell_type": "code",
   "execution_count": 29,
   "metadata": {},
   "outputs": [
    {
     "name": "stdout",
     "output_type": "stream",
     "text": [
      "[3.0, 4.0]\n",
      "sess run(node3) 7.0\n"
     ]
    }
   ],
   "source": [
    "node1 = tf.constant(3.0, dtype=tf.float32)\n",
    "node2 = tf.constant(4.0) # also tf.float32 implicitly\n",
    "node3 = tf.add(node1, node2)\n",
    "\n",
    "sess= tf.Session()\n",
    "print(sess.run([node1,node2]))\n",
    "print(\"sess run(node3)\", sess.run(node3))"
   ]
  },
  {
   "cell_type": "markdown",
   "metadata": {},
   "source": [
    "Tensorflow can accept external inputs by using **placeholders**. A **placeholder** is a promise to provide a value later. This enable our model to take arbitrary inputs. "
   ]
  },
  {
   "cell_type": "code",
   "execution_count": 32,
   "metadata": {},
   "outputs": [
    {
     "name": "stdout",
     "output_type": "stream",
     "text": [
      "Adding input of two scaler 3 and 4.5 : 7.5\n",
      "Adding input of two vector [1,3] and [2,4] : [ 3.  7.]\n",
      "Add and multiply two scaler 3 and 4.5 : 22.5\n"
     ]
    }
   ],
   "source": [
    "a = tf.placeholder(tf.float32)\n",
    "b = tf.placeholder(tf.float32)\n",
    "adder_node = a + b\n",
    "add_and_triple = adder_node * 3.\n",
    "\n",
    "print(\"Adding input of two scaler 3 and 4.5 :\",sess.run(adder_node, {a: 3, b: 4.5}))\n",
    "print(\"Adding input of two vector [1,3] and [2,4] :\",sess.run(adder_node, {a: [1, 3], b: [2, 4]}))\n",
    "print(\"Add and multiply two scaler 3 and 4.5 :\", sess.run(add_and_triple, {a: 3, b: 4.5}))"
   ]
  },
  {
   "cell_type": "markdown",
   "metadata": {},
   "source": [
    "**Variables** allow us to add trainable parameters to the computational graph(weights and bias). All variables need to be initialized during the TensorFlow session.(eg. constant,Variable)  "
   ]
  },
  {
   "cell_type": "code",
   "execution_count": 33,
   "metadata": {},
   "outputs": [
    {
     "name": "stdout",
     "output_type": "stream",
     "text": [
      "[ 0.          0.30000001  0.60000002  0.90000004]\n"
     ]
    }
   ],
   "source": [
    "W = tf.Variable([.3], dtype=tf.float32)\n",
    "b = tf.Variable([-.3], dtype=tf.float32)\n",
    "x = tf.placeholder(tf.float32)\n",
    "linear_model = W*x + b\n",
    "\n",
    "init = tf.global_variables_initializer()\n",
    "sess.run(init)\n",
    "\n",
    "print(sess.run(linear_model, {x: [1, 2, 3, 4]}))"
   ]
  },
  {
   "cell_type": "markdown",
   "metadata": {},
   "source": [
    "Visualisation of tensor flowing throught the computational graph\n",
    "<img src=\"Image/tensors_flowing-1.gif\">"
   ]
  },
  {
   "cell_type": "markdown",
   "metadata": {},
   "source": [
    "<br><br>\n",
    "## 2. Putting it all together - A simple regression using tensorflow "
   ]
  },
  {
   "cell_type": "markdown",
   "metadata": {},
   "source": [
    "<img src=\"Image/getting_started_final.png\",width=480>"
   ]
  },
  {
   "cell_type": "code",
   "execution_count": 35,
   "metadata": {},
   "outputs": [
    {
     "name": "stdout",
     "output_type": "stream",
     "text": [
      "W: [-0.9999969] b: [ 0.99999082] loss: 5.69997e-11\n"
     ]
    }
   ],
   "source": [
    "import tensorflow as tf\n",
    "\n",
    "#\n",
    "W = tf.Variable([.3], dtype = tf.float32)\n",
    "b = tf.Variable([-.3], dtype= tf.float32)\n",
    "x = tf.placeholder(tf.float32)\n",
    "\n",
    "linear_model = W*x+b\n",
    "y=tf.placeholder(tf.float32)\n",
    "\n",
    "#loss \n",
    "loss = tf.reduce_sum(tf.square(linear_model-y))\n",
    "#optimizer \n",
    "optimizer = tf.train.GradientDescentOptimizer(0.01)\n",
    "train = optimizer.minimize(loss)\n",
    "\n",
    "#training \n",
    "x_train = [1,2,3,4]\n",
    "y_train = [0,-1,-2,-3]\n",
    "\n",
    "init =tf.global_variables_initializer()\n",
    "sess = tf.Session()\n",
    "sess.run(init)\n",
    "for i in range(1000):\n",
    "    sess.run(train,{x:x_train,y:y_train})\n",
    "\n",
    "#evaluate \n",
    "cur_W, cur_b,cur_loss = sess.run([W,b,loss],{x:x_train,y:y_train})\n",
    "print(\"W: %s b: %s loss: %s\"%(cur_W, cur_b, cur_loss))"
   ]
  },
  {
   "cell_type": "code",
   "execution_count": null,
   "metadata": {
    "collapsed": true
   },
   "outputs": [],
   "source": []
  }
 ],
 "metadata": {
  "kernelspec": {
   "display_name": "Python 3",
   "language": "python",
   "name": "python3"
  },
  "language_info": {
   "codemirror_mode": {
    "name": "ipython",
    "version": 3
   },
   "file_extension": ".py",
   "mimetype": "text/x-python",
   "name": "python",
   "nbconvert_exporter": "python",
   "pygments_lexer": "ipython3",
   "version": "3.6.1"
  }
 },
 "nbformat": 4,
 "nbformat_minor": 2
}
