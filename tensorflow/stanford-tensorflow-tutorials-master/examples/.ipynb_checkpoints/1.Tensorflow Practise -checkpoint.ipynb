{
 "cells": [
  {
   "cell_type": "code",
   "execution_count": 8,
   "metadata": {
    "collapsed": true
   },
   "outputs": [],
   "source": [
    "import os \n",
    "os.environ['TF_CPP_MIN_LOG_LEVEL']='2'\n",
    "\n",
    "import tensorflow as tf\n",
    "import numpy as np"
   ]
  },
  {
   "cell_type": "markdown",
   "metadata": {},
   "source": [
    "### 1. Basic Operation "
   ]
  },
  {
   "cell_type": "markdown",
   "metadata": {},
   "source": [
    "In order to visualise the computational graph we defined in the code, we need to call the tensorboard hosting <br>\n",
    "1. open a subline (or any code editor you have)\n",
    "2. copy the code below into the sublime \n",
    "3. save the file as tensorboard.py\n",
    "4. run the code 'python tensorboard.py', and 'tensorboard --logdir=\"./graphs\" --port 6006'"
   ]
  },
  {
   "cell_type": "code",
   "execution_count": 9,
   "metadata": {},
   "outputs": [
    {
     "name": "stdout",
     "output_type": "stream",
     "text": [
      "5\n"
     ]
    }
   ],
   "source": [
    "a = tf.constant(2) #a = tf.constant(2,name='a') given a specfic name \n",
    "b = tf.constant(3)\n",
    "x = tf.add(a, b)\n",
    "with tf.Session() as sess:\n",
    "    writer = tf.summary.FileWriter('./graphs', sess.graph) \n",
    "    print(sess.run(x))\n",
    "writer.close() # close the writer when you’re done using it\n"
   ]
  },
  {
   "cell_type": "markdown",
   "metadata": {},
   "source": [
    "<img src=\"Image/tensorboard.png\",width=550,align=\"left\">\n"
   ]
  },
  {
   "cell_type": "markdown",
   "metadata": {},
   "source": [
    "### Constants "
   ]
  },
  {
   "cell_type": "code",
   "execution_count": 10,
   "metadata": {},
   "outputs": [
    {
     "name": "stdout",
     "output_type": "stream",
     "text": [
      "[[2 4]\n",
      " [6 8]]\n"
     ]
    }
   ],
   "source": [
    "a = tf.constant([2,2],name='a')\n",
    "b = tf.constant([[1,2],[3,4]],name='b')\n",
    "x = tf.multiply(a,b, name='dot_product')\n",
    "\n",
    "with tf.Session() as sess:\n",
    "    print(sess.run(x))\n"
   ]
  },
  {
   "cell_type": "markdown",
   "metadata": {},
   "source": [
    "** Tensor filled in with specific values **"
   ]
  },
  {
   "cell_type": "code",
   "execution_count": 17,
   "metadata": {},
   "outputs": [
    {
     "name": "stdout",
     "output_type": "stream",
     "text": [
      "Tensor(\"zeros_like_2:0\", shape=(3, 2), dtype=int32)\n"
     ]
    }
   ],
   "source": [
    "x = tf.zeros([2, 3], tf.int32) \n",
    "input_tensor = tf.constant([[1,2],[3,4],[5,6]],name='b')\n",
    "y = tf.zeros_like(input_tensor, optimize=True)\n",
    "print(y)\n"
   ]
  },
  {
   "cell_type": "code",
   "execution_count": 18,
   "metadata": {},
   "outputs": [
    {
     "name": "stdout",
     "output_type": "stream",
     "text": [
      "[[0 0]\n",
      " [0 0]\n",
      " [0 0]]\n"
     ]
    }
   ],
   "source": [
    "#print(tf.get_default_graph().as_graph_def())\n",
    "with tf.Session() as sess:\n",
    "    print(sess.run(y))"
   ]
  },
  {
   "cell_type": "markdown",
   "metadata": {},
   "source": [
    "**few similair functions**\n",
    "```pytho\n",
    "tf.ones(shape, dtype=tf.float32, name=None)\n",
    "tf.ones_like(input_tensor, dtype=None, name=None, optimize=True)\n",
    "tf.fill(dims,value,name=None)\n",
    "```"
   ]
  },
  {
   "cell_type": "markdown",
   "metadata": {},
   "source": [
    "**Constant as sequences**\n",
    "\n",
    "```python\n",
    "tf.linspace(start,stop,num,name=None)\n",
    "tf.range(start,limit=None,delta=1,dtype=None,name='range')\n",
    "```"
   ]
  },
  {
   "cell_type": "code",
   "execution_count": 22,
   "metadata": {},
   "outputs": [
    {
     "name": "stdout",
     "output_type": "stream",
     "text": [
      "[ 10.  11.  12.  13.]\n",
      "[0 1 2 3 4]\n",
      "0\n",
      "1\n",
      "2\n",
      "3\n",
      "4\n"
     ]
    }
   ],
   "source": [
    "with tf.Session() as sess:\n",
    "    print(sess.run(tf.linspace(10.0,13.0,4)))\n",
    "    print(sess.run(tf.range(5)))\n",
    "    for i in np.arange(5):\n",
    "        print(i)"
   ]
  },
  {
   "cell_type": "markdown",
   "metadata": {},
   "source": [
    "***Randomly Generated Constants**\n",
    "```python\n",
    "tf.random_normal(shape, mean=0.0, stddev=1.0, dtype=tf.float32, seed=None, name=None)\n",
    "tf.truncated_normal(shape, mean=0.0, stddev=1.0, dtype=tf.float32, seed=None,\n",
    "name=None)\n",
    "tf.random_uniform(shape, minval=0, maxval=None, dtype=tf.float32, seed=None,\n",
    "name=None)\n",
    "tf.random_shuffle(value, seed=None, name=None)\n",
    "tf.random_crop(value, size, seed=None, name=None)\n",
    "tf.multinomial(logits, num_samples, seed=None, name=None)\n",
    "tf.random_gamma(shape, alpha, beta=None, dtype=tf.float32, seed=None, name=None)\n",
    "20\n",
    "```"
   ]
  },
  {
   "cell_type": "markdown",
   "metadata": {},
   "source": [
    "**More examples**"
   ]
  },
  {
   "cell_type": "code",
   "execution_count": 23,
   "metadata": {},
   "outputs": [
    {
     "name": "stdout",
     "output_type": "stream",
     "text": [
      "[[1 1 1 2 1]]\n",
      "[[1 1 1 1 1]]\n",
      "[[1 1 0 1 0]]\n",
      "[[1 2 1 2 1]]\n",
      "[[1 1 1 1 1]]\n",
      "[[1 1 1 1 1]]\n",
      "[[1 1 2 1 2]]\n",
      "[[1 1 1 1 1]]\n",
      "[[1 0 2 1 1]]\n",
      "[[1 1 1 1 1]]\n"
     ]
    }
   ],
   "source": [
    "sample = tf.multinomial(tf.constant([[1.,3.,1]]),5)\n",
    "\n",
    "with tf.Session() as sess:\n",
    "    for _ in range(10):\n",
    "        print(sess.run(sample))"
   ]
  },
  {
   "cell_type": "markdown",
   "metadata": {},
   "source": [
    "### 2. Tensor types "
   ]
  },
  {
   "cell_type": "markdown",
   "metadata": {},
   "source": [
    "0-d tensor or \"scalar\""
   ]
  },
  {
   "cell_type": "code",
   "execution_count": 24,
   "metadata": {},
   "outputs": [
    {
     "name": "stdout",
     "output_type": "stream",
     "text": [
      "[0, 1]\n"
     ]
    }
   ],
   "source": [
    "t_0 = 19 \n",
    "x = tf.zeros_like(t_0) # ==> 0\n",
    "y = tf.ones_like(t_0) # ==> 1\n",
    "\n",
    "with tf.Session() as sess:\n",
    "    print(sess.run([x,y]))"
   ]
  },
  {
   "cell_type": "markdown",
   "metadata": {},
   "source": [
    "1-d tensor, or \"vector\""
   ]
  },
  {
   "cell_type": "code",
   "execution_count": null,
   "metadata": {},
   "outputs": [],
   "source": [
    "t_1 = ['apple', 'peach', 'banana']\n",
    "x = tf.zeros_like(t_1) # ==> ['' '' '']\n",
    "y = tf.ones_like(t_1)\n",
    "\n",
    "with tf.Sesson() as sess:\n",
    "    print(sess.run([x,y]))"
   ]
  },
  {
   "cell_type": "markdown",
   "metadata": {},
   "source": [
    "2x2 tensor, or \"matrix\""
   ]
  },
  {
   "cell_type": "code",
   "execution_count": 26,
   "metadata": {},
   "outputs": [
    {
     "name": "stdout",
     "output_type": "stream",
     "text": [
      "[array([[False, False, False],\n",
      "       [False, False, False],\n",
      "       [False, False, False]], dtype=bool), array([[ True,  True,  True],\n",
      "       [ True,  True,  True],\n",
      "       [ True,  True,  True]], dtype=bool)]\n"
     ]
    }
   ],
   "source": [
    "t_2 = [[True, False, False],\n",
    "       [False, False, True],\n",
    "       [False, True, False]] \n",
    "x = tf.zeros_like(t_2) # ==> 2x2 tensor, all elements are False\n",
    "y = tf.ones_like(t_2) # ==> 2x2 tensor, all elements are True\n",
    "with tf.Session() as sess:\n",
    "    print(sess.run([x, y]))"
   ]
  },
  {
   "cell_type": "markdown",
   "metadata": {},
   "source": [
    "<font color='red'>what's wrong with constant </font>\n",
    "1. constant immutable \n",
    "2. constant are stored in the graph definition, making loading graph expensive when constant are big \n",
    "3. only use constant for primative types, use variables and readers for more data that requires more memory "
   ]
  },
  {
   "cell_type": "code",
   "execution_count": null,
   "metadata": {},
   "outputs": [],
   "source": [
    "my_const = tf.constant([1.0, 2.0], name=\"my_const\")\n",
    "with tf.Session() as sess:\n",
    "    print (sess.graph.as_graph_def())"
   ]
  },
  {
   "cell_type": "code",
   "execution_count": 30,
   "metadata": {},
   "outputs": [
    {
     "name": "stdout",
     "output_type": "stream",
     "text": [
      "[768.0, 32.0]\n"
     ]
    }
   ],
   "source": [
    "x = tf.Variable(2.0)\n",
    "y = 2.0 * (x ** 3)\n",
    "z = 3.0 + y ** 2\n",
    "grad_z = tf.gradients(z, [x, y])\n",
    "with tf.Session() as sess:\n",
    "    sess.run(x.initializer)\n",
    "    print(sess.run(grad_z))"
   ]
  },
  {
   "cell_type": "markdown",
   "metadata": {},
   "source": [
    "**Variables**"
   ]
  },
  {
   "cell_type": "markdown",
   "metadata": {},
   "source": [
    "tf.Variable is a class,but tf.constant is an op <br>\n",
    "\n",
    "tf.Variable holds several ops:<br>\n",
    "```python\n",
    "x = tf.Variable(...)<br>\n",
    "x.initializer # init op<br>\n",
    "x.value() # read op<br>\n",
    "x.assign(...) # write op<br>\n",
    "x.assign_add(...) # and more<br>\n",
    "```"
   ]
  },
  {
   "cell_type": "code",
   "execution_count": 31,
   "metadata": {
    "collapsed": true
   },
   "outputs": [],
   "source": [
    "a = tf.Variable(2, name=\"scalar\")\n",
    "b = tf.Variable([2, 3], name=\"vector\")\n",
    "c = tf.Variable([[0, 1], [2, 3]], name=\"matrix\")\n",
    "W = tf.Variable(tf.zeros([784,10]))\n",
    "\n",
    "init = tf.global_variables_initializer()\n",
    "with tf.Session() as sess:\n",
    "    sess.run(init)\n",
    "\n",
    "#initial subset of variables  \n",
    "init_ab = tf.global_variables_initializer([a,b,c],name=\"init_ab\")\n",
    "with tf.Session() as sess:\n",
    "    sess.run(init)"
   ]
  },
  {
   "cell_type": "markdown",
   "metadata": {},
   "source": [
    "Assign different values to W "
   ]
  },
  {
   "cell_type": "code",
   "execution_count": 32,
   "metadata": {},
   "outputs": [
    {
     "name": "stdout",
     "output_type": "stream",
     "text": [
      "10\n",
      "100\n"
     ]
    }
   ],
   "source": [
    "W = tf.Variable(10)\n",
    "assign_op = W.assign(100)\n",
    "\n",
    "with tf.Session() as sess:\n",
    "    sess.run(W.initializer)\n",
    "    print(W.eval()) # >> 10\n",
    "    print(sess.run(assign_op)) # >> 100\n"
   ]
  },
  {
   "cell_type": "markdown",
   "metadata": {},
   "source": [
    "### 3. Placeholder and feeding inputs "
   ]
  },
  {
   "cell_type": "markdown",
   "metadata": {},
   "source": [
    "A TF program often has 2 phases:\n",
    "1. Assemble a graph \n",
    "2. Use a session to execute operations in the graph \n",
    "\n",
    "<br>**Placeholders can assemble the graph first without knowing the values needed for computation**"
   ]
  },
  {
   "cell_type": "code",
   "execution_count": 33,
   "metadata": {
    "collapsed": true
   },
   "outputs": [],
   "source": [
    "#some placeholder examples"
   ]
  },
  {
   "cell_type": "markdown",
   "metadata": {},
   "source": [
    "**EXAMPLE 1**<br>\n",
    "feed_dict with placeholder <br>\n",
    "1. a placeholder of type float 32-bit, value is a vector of 3 elements\n",
    "2. create a constant of type float 32-bit, value is a vector of 3 elements\n",
    "3. use the placeholder as you would be a constant "
   ]
  },
  {
   "cell_type": "code",
   "execution_count": 3,
   "metadata": {
    "collapsed": true
   },
   "outputs": [],
   "source": [
    "a = tf.placeholder(tf.float32, shape=[3])\n",
    "b = tf.constant([6,6,6],tf.float32)\n",
    "c = a + b # same as tf.add(a,b)"
   ]
  },
  {
   "cell_type": "markdown",
   "metadata": {},
   "source": [
    "If you print(sess.run(c)) will end up with a **InvalidArgumentError** because a doesn’t have any value<br>\n",
    "Hence you need to feed [1, 2, 3] to placeholder a via the dict {a: [1, 2, 3]}, then fetch value of c"
   ]
  },
  {
   "cell_type": "code",
   "execution_count": 4,
   "metadata": {},
   "outputs": [
    {
     "name": "stdout",
     "output_type": "stream",
     "text": [
      "[ 7.  8.  9.]\n"
     ]
    }
   ],
   "source": [
    "with tf.Session() as sess:\n",
    "    print(sess.run(c,{a:[1,2,3]})) "
   ]
  },
  {
   "cell_type": "markdown",
   "metadata": {},
   "source": [
    "**Example 2**: <br>\n",
    "Feed_dict with variables<br>\n",
    "Define a new dictionary that replace predefined a value during session run time "
   ]
  },
  {
   "cell_type": "code",
   "execution_count": 7,
   "metadata": {},
   "outputs": [
    {
     "name": "stdout",
     "output_type": "stream",
     "text": [
      "75\n"
     ]
    }
   ],
   "source": [
    "a = tf.add(2,5)\n",
    "b = tf.multiply(a,3)\n",
    "\n",
    "with tf.Session() as sess:\n",
    "    replace_dict = {a:25}\n",
    "    print(sess.run(b,feed_dict=replace_dict))"
   ]
  },
  {
   "cell_type": "markdown",
   "metadata": {},
   "source": [
    "### 5. Lazy loading "
   ]
  },
  {
   "cell_type": "markdown",
   "metadata": {},
   "source": [
    "NORMAL LOADING  <br>\n",
    "print out a graph with 1 Add node  "
   ]
  },
  {
   "cell_type": "code",
   "execution_count": null,
   "metadata": {
    "collapsed": true
   },
   "outputs": [],
   "source": [
    "x = tf.Variable(10, name='x')\n",
    "y = tf.Variable(20, name='y')\n",
    "z = tf.add(x, y)\n",
    "\n",
    "with tf.Session() as sess:\n",
    "    sess.run(tf.global_variables_initializer())\n",
    "    writer = tf.summary.FileWriter('./graphs/l2', sess.graph)\n",
    "    for _ in range(10):\n",
    "        sess.run(z)\n",
    "    print(tf.get_default_graph().as_graph_def())\n",
    "    writer.close()"
   ]
  },
  {
   "cell_type": "markdown",
   "metadata": {},
   "source": [
    "LAZY LOADING \t\t\t\t\t  \n",
    "print out a graph with 10 Add nodes "
   ]
  },
  {
   "cell_type": "code",
   "execution_count": null,
   "metadata": {
    "collapsed": true
   },
   "outputs": [],
   "source": [
    "x = tf.Variable(10, name='x')\n",
    "y = tf.Variable(20, name='y')\n",
    "\n",
    "with tf.Session() as sess:\n",
    "    sess.run(tf.global_variables_initializer())\n",
    "    writer = tf.summary.FileWriter('./graphs/l2', sess.graph)\n",
    "    for _ in range(10):\n",
    "        sess.run(tf.add(x, y))\n",
    "    print(tf.get_default_graph().as_graph_def()) \n",
    "    writer.close()"
   ]
  }
 ],
 "metadata": {
  "kernelspec": {
   "display_name": "Python 3",
   "language": "python",
   "name": "python3"
  },
  "language_info": {
   "codemirror_mode": {
    "name": "ipython",
    "version": 3
   },
   "file_extension": ".py",
   "mimetype": "text/x-python",
   "name": "python",
   "nbconvert_exporter": "python",
   "pygments_lexer": "ipython3",
   "version": "3.6.1"
  }
 },
 "nbformat": 4,
 "nbformat_minor": 2
}
