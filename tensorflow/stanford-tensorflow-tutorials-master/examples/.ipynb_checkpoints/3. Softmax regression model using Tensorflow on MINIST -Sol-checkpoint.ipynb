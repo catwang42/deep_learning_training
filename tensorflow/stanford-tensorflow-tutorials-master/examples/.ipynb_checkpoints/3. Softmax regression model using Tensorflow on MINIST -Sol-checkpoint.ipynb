{
 "cells": [
  {
   "cell_type": "markdown",
   "metadata": {},
   "source": [
    "### 2. Implementing a Softmax Regression Model with Tensorflow on MINIST"
   ]
  },
  {
   "cell_type": "markdown",
   "metadata": {},
   "source": [
    "**Dataset:**<br>\n",
    "MNIST is a simple computer vision dataset.<br>\n",
    "It consists of images of handwritten digits like these:\n",
    "<img src=\"Image/MNIST.png\",width=550,align=\"left\">\n",
    "It also includes labels for each image. "
   ]
  },
  {
   "cell_type": "markdown",
   "metadata": {},
   "source": [
    "**Mathematical expression of the algorithm**: \n",
    "\n",
    "For one example $x^{(i)}$:\n",
    "$$z^{(i)} = w^T x^{(i)} + b \\tag{1}$$\n",
    "$$\\hat{y}^{(i)} = a^{(i)} = sigmoid(z^{(i)})\\tag{2}$$ \n",
    "$$ \\mathcal{L}(a^{(i)}, y^{(i)}) =  - y^{(i)}  \\log(a^{(i)}) - (1-y^{(i)} )  \\log(1-a^{(i)})\\tag{3}$$\n",
    "\n",
    "The cost is then computed by summing over all training examples:\n",
    "$$ J = \\frac{1}{m} \\sum_{i=1}^m \\mathcal{L}(a^{(i)}, y^{(i)})\\tag{6}$$\n"
   ]
  },
  {
   "cell_type": "markdown",
   "metadata": {},
   "source": [
    "**Step 1: Import libraries**"
   ]
  },
  {
   "cell_type": "code",
   "execution_count": 1,
   "metadata": {
    "collapsed": true
   },
   "outputs": [],
   "source": [
    "import os\n",
    "os.environ['TF_CPP_MIN_LOG_LEVEL']='2'\n",
    "\n",
    "import numpy as np\n",
    "import tensorflow as tf\n",
    "from tensorflow.examples.tutorials.mnist import input_data\n",
    "import time"
   ]
  },
  {
   "cell_type": "markdown",
   "metadata": {},
   "source": [
    "Define paramaters for the model"
   ]
  },
  {
   "cell_type": "code",
   "execution_count": 2,
   "metadata": {
    "collapsed": true
   },
   "outputs": [],
   "source": [
    "learning_rate = 0.01 # common chosen value for learning rate \n",
    "batch_size = 128 #we train our model on a subset of original minist data \n",
    "n_epochs = 30 # how many times to iterate through our model "
   ]
  },
  {
   "cell_type": "markdown",
   "metadata": {},
   "source": [
    "**Step 1: Read in data** <br>\n",
    "**using TF Learn's built in function to load MNIST data to the folder data/mnist**"
   ]
  },
  {
   "cell_type": "code",
   "execution_count": 3,
   "metadata": {},
   "outputs": [
    {
     "name": "stdout",
     "output_type": "stream",
     "text": [
      "Extracting /data/mnist\\train-images-idx3-ubyte.gz\n",
      "Extracting /data/mnist\\train-labels-idx1-ubyte.gz\n",
      "Extracting /data/mnist\\t10k-images-idx3-ubyte.gz\n",
      "Extracting /data/mnist\\t10k-labels-idx1-ubyte.gz\n"
     ]
    }
   ],
   "source": [
    "mnist = input_data.read_data_sets('/data/mnist', one_hot=True) "
   ]
  },
  {
   "cell_type": "markdown",
   "metadata": {},
   "source": [
    "**Step 2: Create Placeholders for Features and Labels **<br>\n",
    "The MNIST data is split into three parts: 55,000 data points of training data (mnist.train), 10,000 points of test data (mnist.test), and 5,000 points of validation data (mnist.validation). <br>\n",
    "Each image in the MNIST data is of shape 28*28 = 784 therefore, each image is represented with a 1x784 tensor <br>\n",
    "There are 10 classes for each image, corresponding to digits 0 - 9. each lable is one hot vector."
   ]
  },
  {
   "cell_type": "code",
   "execution_count": 4,
   "metadata": {
    "collapsed": true
   },
   "outputs": [],
   "source": [
    "X = tf.placeholder(tf.float32, [batch_size, 784], name='X_placeholder') \n",
    "Y = tf.placeholder(tf.int32, [batch_size, 10], name='Y_placeholder')"
   ]
  },
  {
   "cell_type": "markdown",
   "metadata": {},
   "source": [
    "**Step 3: Create Placeholder for Weights and Bias**\n",
    "- w is initialized to random variables with mean of 0, stddev of 0.01<br>\n",
    "- b is initialized to 0<br>\n",
    "- *you can try different initialization value for w and b<br>\n",
    "- shape of w depends on the dimension of X and Y so that Y = tf.matmul(X, w)<br>\n",
    "- shape of b depends on Y<br>"
   ]
  },
  {
   "cell_type": "code",
   "execution_count": 5,
   "metadata": {
    "collapsed": true
   },
   "outputs": [],
   "source": [
    "w = tf.Variable(tf.random_normal(shape=[784, 10], stddev=0.01), name='weights')\n",
    "b = tf.Variable(tf.zeros([1, 10]), name=\"bias\")"
   ]
  },
  {
   "cell_type": "markdown",
   "metadata": {},
   "source": [
    "**Step 4: build model**<br>\n",
    "the model that returns the logits.<br>\n",
    "this logits will be later passed through softmax layer"
   ]
  },
  {
   "cell_type": "code",
   "execution_count": 6,
   "metadata": {
    "collapsed": true
   },
   "outputs": [],
   "source": [
    "logits = tf.matmul(X, w) + b "
   ]
  },
  {
   "cell_type": "markdown",
   "metadata": {},
   "source": [
    "**Step 5: Define Loss Function**\n",
    "use cross entropy of softmax of logits as the loss function"
   ]
  },
  {
   "cell_type": "code",
   "execution_count": 7,
   "metadata": {
    "collapsed": true
   },
   "outputs": [],
   "source": [
    "entropy = tf.nn.softmax_cross_entropy_with_logits(logits=logits, labels=Y, name='loss')\n",
    "loss = tf.reduce_mean(entropy) # computes the mean over all the examples in the batch"
   ]
  },
  {
   "cell_type": "markdown",
   "metadata": {},
   "source": [
    "** Step 6: define training op**\n",
    "using gradient descent with learning rate of 0.01 to minimize loss"
   ]
  },
  {
   "cell_type": "code",
   "execution_count": 8,
   "metadata": {
    "collapsed": true
   },
   "outputs": [],
   "source": [
    "optimizer = tf.train.AdamOptimizer(learning_rate).minimize(loss)"
   ]
  },
  {
   "cell_type": "markdown",
   "metadata": {},
   "source": [
    "**Step 7: Train your model in a tensorflow session**"
   ]
  },
  {
   "cell_type": "code",
   "execution_count": 17,
   "metadata": {},
   "outputs": [
    {
     "name": "stdout",
     "output_type": "stream",
     "text": [
      "Average loss epoch 0: 0.36923096935093264\n",
      "Average loss epoch 1: 0.2899195619257458\n",
      "Average loss epoch 2: 0.2851277754440174\n",
      "Average loss epoch 3: 0.2761288227595927\n",
      "Average loss epoch 4: 0.27771557673013014\n",
      "Average loss epoch 5: 0.2701860347758362\n",
      "Average loss epoch 6: 0.26749655519262616\n",
      "Average loss epoch 7: 0.2672456250914605\n",
      "Average loss epoch 8: 0.2716234384195788\n",
      "Average loss epoch 9: 0.2664784688354928\n",
      "Average loss epoch 10: 0.2621698060826266\n",
      "Average loss epoch 11: 0.26248418993049566\n",
      "Average loss epoch 12: 0.2609330145316524\n",
      "Average loss epoch 13: 0.26277542039578333\n",
      "Average loss epoch 14: 0.2616173372124181\n",
      "Average loss epoch 15: 0.2563137784079238\n",
      "Average loss epoch 16: 0.2583873208725091\n",
      "Average loss epoch 17: 0.25996593816644387\n",
      "Average loss epoch 18: 0.2589261467570747\n",
      "Average loss epoch 19: 0.25506325580162326\n",
      "Average loss epoch 20: 0.2557765194117189\n",
      "Average loss epoch 21: 0.2556589759521551\n",
      "Average loss epoch 22: 0.2533363988905242\n",
      "Average loss epoch 23: 0.25419806784544235\n",
      "Average loss epoch 24: 0.25868425316813387\n",
      "Average loss epoch 25: 0.24991983381948826\n",
      "Average loss epoch 26: 0.25806765946058124\n",
      "Average loss epoch 27: 0.2471120229516274\n",
      "Average loss epoch 28: 0.25333676857131343\n",
      "Average loss epoch 29: 0.2502333270190479\n",
      "Total time: 19.847448587417603 seconds\n",
      "Optimization Finished!\n",
      "Accuracy 0.9158\n"
     ]
    }
   ],
   "source": [
    "with tf.Session() as sess:\n",
    "    # to visualize using TensorBoard\n",
    "    #writer = tf.summary.FileWriter('./graphs/logistic_reg', sess.graph)\n",
    "    \n",
    "    \n",
    "    start_time = time.time()\n",
    "    sess.run(tf.global_variables_initializer())\n",
    "    n_batches = int(mnist.train.num_examples/batch_size)\n",
    "    \n",
    "    for i in range(n_epochs): # train the model n_epochs times\n",
    "        total_loss = 0\n",
    "\n",
    "        for _ in range(n_batches):\n",
    "            X_batch, Y_batch = mnist.train.next_batch(batch_size)\n",
    "            _, loss_batch = sess.run([optimizer, loss], feed_dict={X: X_batch, Y:Y_batch}) \n",
    "            total_loss += loss_batch\n",
    "        print('Average loss epoch {0}: {1}'.format(i, total_loss/n_batches))\n",
    "\n",
    "    print('Total time: {0} seconds'.format(time.time() - start_time))\n",
    "\n",
    "    print('Optimization Finished!') # should be around 0.35 after 25 epochs\n",
    "    \n",
    "\n",
    "    # test the model\n",
    "\n",
    "    preds = tf.nn.softmax(logits)\n",
    "    correct_preds = tf.equal(tf.argmax(preds, 1), tf.argmax(Y, 1))\n",
    "    accuracy = tf.reduce_sum(tf.cast(correct_preds, tf.float32)) # need numpy.count_nonzero(boolarr) :(\n",
    "\n",
    "    n_batches = int(mnist.test.num_examples/batch_size)\n",
    "    total_correct_preds = 0\n",
    "\n",
    "    for i in range(n_batches):\n",
    "        X_batch, Y_batch = mnist.test.next_batch(batch_size)\n",
    "        accuracy_batch = sess.run([accuracy], feed_dict={X: X_batch, Y:Y_batch}) \n",
    "        accuracy_value = accuracy_batch[0]\n",
    "        total_correct_preds =total_correct_preds+ accuracy_value\n",
    "        #print('Accuracy epoch {0}: {1}'.format(i, accuracy_batch.value))\n",
    "        \n",
    "    print('Accuracy {0}'.format(total_correct_preds/mnist.test.num_examples))\n",
    "\n",
    "    #writer.close()"
   ]
  },
  {
   "cell_type": "code",
   "execution_count": null,
   "metadata": {
    "collapsed": true
   },
   "outputs": [],
   "source": []
  }
 ],
 "metadata": {
  "kernelspec": {
   "display_name": "Python 3",
   "language": "python",
   "name": "python3"
  },
  "language_info": {
   "codemirror_mode": {
    "name": "ipython",
    "version": 3
   },
   "file_extension": ".py",
   "mimetype": "text/x-python",
   "name": "python",
   "nbconvert_exporter": "python",
   "pygments_lexer": "ipython3",
   "version": "3.6.1"
  }
 },
 "nbformat": 4,
 "nbformat_minor": 2
}
