{
 "cells": [
  {
   "cell_type": "markdown",
   "metadata": {},
   "source": [
    "## Everyone Loves the glorfied Regression model "
   ]
  },
  {
   "cell_type": "markdown",
   "metadata": {},
   "source": [
    "### 1. implement a simple linear regression model with tensorflow"
   ]
  },
  {
   "cell_type": "markdown",
   "metadata": {},
   "source": [
    "**Step 1: Import libraries and read in data form the .xls files**"
   ]
  },
  {
   "cell_type": "code",
   "execution_count": 10,
   "metadata": {
    "collapsed": true
   },
   "outputs": [],
   "source": [
    "import os\n",
    "os.environ['TF_CPP_MIN_LOG_LEVEL']='2'\n",
    "\n",
    "import numpy as np\n",
    "import matplotlib.pyplot as plt\n",
    "import tensorflow as tf\n",
    "import xlrd\n",
    "import utils\n",
    "%matplotlib inline\n",
    "\n",
    "DATA_FILE = 'data/fire_theft.xls'\n",
    "\n",
    "book = xlrd.open_workbook(DATA_FILE, encoding_override=\"utf-8\")\n",
    "sheet = book.sheet_by_index(0)\n",
    "data = np.asarray([sheet.row_values(i) for i in range(1, sheet.nrows)])\n",
    "n_samples = sheet.nrows - 1"
   ]
  },
  {
   "cell_type": "code",
   "execution_count": 11,
   "metadata": {},
   "outputs": [
    {
     "name": "stdout",
     "output_type": "stream",
     "text": [
      "42\n"
     ]
    }
   ],
   "source": [
    "print(n_samples)"
   ]
  },
  {
   "cell_type": "markdown",
   "metadata": {},
   "source": [
    "**Step 2: create placeholders for input X (number of fire) and label Y (number of theft)**"
   ]
  },
  {
   "cell_type": "code",
   "execution_count": 12,
   "metadata": {
    "collapsed": true
   },
   "outputs": [],
   "source": [
    "X = tf.placeholder(tf.float32, name='X')\n",
    "Y = tf.placeholder(tf.float32, name='Y')"
   ]
  },
  {
   "cell_type": "markdown",
   "metadata": {},
   "source": [
    "**Step 3: create weight and bias, initialized to 0**"
   ]
  },
  {
   "cell_type": "code",
   "execution_count": 13,
   "metadata": {
    "collapsed": true
   },
   "outputs": [],
   "source": [
    "w = tf.Variable(0.0, name='weights')\n",
    "b = tf.Variable(0.0, name='bias')"
   ]
  },
  {
   "cell_type": "markdown",
   "metadata": {},
   "source": [
    "**Step 4: build model to predict Y**"
   ]
  },
  {
   "cell_type": "code",
   "execution_count": 14,
   "metadata": {
    "collapsed": true
   },
   "outputs": [],
   "source": [
    "Y_predicted = X * w + b # can also use tf.multiply and tf.add"
   ]
  },
  {
   "cell_type": "markdown",
   "metadata": {},
   "source": [
    "**Step 5: use the square error as the loss function**"
   ]
  },
  {
   "cell_type": "code",
   "execution_count": 15,
   "metadata": {
    "collapsed": true
   },
   "outputs": [],
   "source": [
    "#loss = tf.square(Y - Y_predicted, name='loss')\n",
    "loss = utils.huber_loss(Y, Y_predicted)"
   ]
  },
  {
   "cell_type": "markdown",
   "metadata": {},
   "source": [
    "**Step 6: using gradient descent with learning rate of 0.01 to minimize loss**"
   ]
  },
  {
   "cell_type": "code",
   "execution_count": 16,
   "metadata": {
    "collapsed": true
   },
   "outputs": [],
   "source": [
    "optimizer = tf.train.GradientDescentOptimizer(learning_rate=0.001).minimize(loss)"
   ]
  },
  {
   "cell_type": "markdown",
   "metadata": {},
   "source": [
    "**Step 7. Initialize the variables and rain the model**"
   ]
  },
  {
   "cell_type": "code",
   "execution_count": 17,
   "metadata": {},
   "outputs": [
    {
     "name": "stdout",
     "output_type": "stream",
     "text": [
      "Epoch 0: 30.231313444319227\n",
      "Epoch 1: 24.488211881546746\n",
      "Epoch 2: 19.95247097987504\n",
      "Epoch 3: 18.415514595407462\n",
      "Epoch 4: 17.62403281920013\n",
      "Epoch 5: 17.08878264540718\n",
      "Epoch 6: 16.827302360641106\n",
      "Epoch 7: 16.676950227957043\n",
      "Epoch 8: 16.589362557090464\n",
      "Epoch 9: 16.547880798134777\n",
      "Epoch 10: 16.54316401366322\n",
      "Epoch 11: 16.53523531635957\n",
      "Epoch 12: 16.527739029466396\n",
      "Epoch 13: 16.520207939580793\n",
      "Epoch 14: 16.51269836031965\n",
      "Epoch 15: 16.505204298932636\n",
      "Epoch 16: 16.497726049274206\n",
      "Epoch 17: 16.490262628311203\n",
      "Epoch 18: 16.48281567916274\n",
      "Epoch 19: 16.475384406479343\n",
      "Epoch 20: 16.467968803342607\n",
      "Epoch 21: 16.460568067573366\n",
      "Epoch 22: 16.453183558459084\n",
      "Epoch 23: 16.445813909350406\n",
      "Epoch 24: 16.438459956220218\n",
      "Epoch 25: 16.431121296870213\n",
      "Epoch 26: 16.42379860965801\n",
      "Epoch 27: 16.41649028893915\n",
      "Epoch 28: 16.409198701381683\n",
      "Epoch 29: 16.401921452111786\n",
      "Epoch 30: 16.394659822185833\n",
      "Epoch 31: 16.38741318797249\n",
      "Epoch 32: 16.38018172096816\n",
      "Epoch 33: 16.37296574961926\n",
      "Epoch 34: 16.36576510500163\n",
      "Epoch 35: 16.358579074853054\n",
      "Epoch 36: 16.351408738110745\n",
      "Epoch 37: 16.344253146777017\n",
      "Epoch 38: 16.337112197386368\n",
      "Epoch 39: 16.32998634916952\n",
      "Epoch 40: 16.322875844669483\n",
      "Epoch 41: 16.31578067016034\n",
      "Epoch 42: 16.308699420098925\n",
      "Epoch 43: 16.30163342688632\n",
      "Epoch 44: 16.294582396135887\n",
      "Epoch 45: 16.28755898626211\n",
      "Epoch 46: 16.28047544640001\n",
      "Epoch 47: 16.273403990858544\n",
      "Epoch 48: 16.26633599188755\n",
      "Epoch 49: 16.259274158272007\n",
      "weight: 1.92548  bias: 0.975205\n"
     ]
    }
   ],
   "source": [
    "with tf.Session() as sess:\n",
    "    #initialize the necessary variables, in this case, w and b\n",
    "    sess.run(tf.global_variables_initializer()) \n",
    "        \n",
    "    #writer = tf.summary.FileWriter('./graphs/linear_reg', sess.graph)\n",
    "\n",
    "    #train the model\n",
    "    for i in range(50): # train the model 100 epochs\n",
    "        total_loss = 0\n",
    "        for x, y in data:\n",
    "            # Session runs train_op and fetch values of loss\n",
    "            _, l = sess.run([optimizer, loss], feed_dict={X: x, Y:y}) \n",
    "            total_loss += l\n",
    "        print('Epoch {0}: {1}'.format(i, total_loss/n_samples))\n",
    "\n",
    "    # close the writer when you're done using it\n",
    "    #writer.close() \n",
    "\n",
    "    #output the values of w and b\n",
    "    w, b = sess.run([w, b])\n",
    "    print(\"weight:\",w, \" bias:\",b)"
   ]
  },
  {
   "cell_type": "code",
   "execution_count": 18,
   "metadata": {},
   "outputs": [
    {
     "data": {
      "image/png": "[encoded data removed]",
      "text/plain": [
       "<matplotlib.figure.Figure at 0x54f865f550>"
      ]
     },
     "metadata": {},
     "output_type": "display_data"
    }
   ],
   "source": [
    "# plot the results\n",
    "X, Y = data.T[0], data.T[1]\n",
    "plt.plot(X, Y, 'bo', label='Real data')\n",
    "plt.plot(X, X * w + b, 'r', label='Predicted data')\n",
    "plt.legend()\n",
    "plt.show()"
   ]
  },
  {
   "cell_type": "code",
   "execution_count": null,
   "metadata": {
    "collapsed": true
   },
   "outputs": [],
   "source": []
  }
 ],
 "metadata": {
  "kernelspec": {
   "display_name": "Python 3",
   "language": "python",
   "name": "python3"
  },
  "language_info": {
   "codemirror_mode": {
    "name": "ipython",
    "version": 3
   },
   "file_extension": ".py",
   "mimetype": "text/x-python",
   "name": "python",
   "nbconvert_exporter": "python",
   "pygments_lexer": "ipython3",
   "version": "3.6.1"
  }
 },
 "nbformat": 4,
 "nbformat_minor": 2
}
